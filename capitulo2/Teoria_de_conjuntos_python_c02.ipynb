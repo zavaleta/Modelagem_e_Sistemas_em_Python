{
 "cells": [
  {
   "cell_type": "markdown",
   "metadata": {},
   "source": [
    "# Capítulo 2: Teoria de Conjuntos Clássicos em Python"
   ]
  },
  {
   "cell_type": "markdown",
   "metadata": {},
   "source": [
    ">## Modelagem e Simulação de Sistemas Usando Lógica Fuzzy com Python: Teoria e Prática\n",
    ">### Aurtor: Jorge Zavaleta"
   ]
  },
  {
   "cell_type": "markdown",
   "metadata": {},
   "source": [
    "## Criando conjuntos usando {}"
   ]
  },
  {
   "cell_type": "markdown",
   "metadata": {},
   "source": [
    "Para criar um conjunto basta colocar os valores entre chaves {}:"
   ]
  },
  {
   "cell_type": "code",
   "execution_count": 1,
   "metadata": {},
   "outputs": [
    {
     "name": "stdout",
     "output_type": "stream",
     "text": [
      "C =  {'Claudio', 'Nice', 'Paulo', 'Erica', 'Jorge', 'Marcio'}\n"
     ]
    }
   ],
   "source": [
    "# criando um conjunto usando {}\n",
    "C = {'Paulo', 'Claudio', 'Marcio', 'Erica', 'Jorge', 'Nice'}\n",
    "print(\"C = \",C)"
   ]
  },
  {
   "cell_type": "markdown",
   "metadata": {},
   "source": [
    "## Conjuntos em Python"
   ]
  },
  {
   "cell_type": "markdown",
   "metadata": {},
   "source": [
    "Um **conjunto** em **Python** é uma estrutura de dados equivalente ao conjunto em matemática. Um conjuntos pode ter vários elementos, sem uma ordem predetermianada. Um conjunto permite adicionar e excluir elementos, assim como iteração sobre seus elementos. Possue operações padrão (união, intersecção, diferença). Além disso, permite verificar se um elemento pertence a um conjunto.\n",
    "\n",
    "Um conjunto é uma coleção não ordenada de objetos únicos. Na linguagem **Python**, o conjunto (*set*) é um tipo de dado que forma parte das coleções \"por defeito\", ao igual que as outras, tais como, as listas, as tuplas e os dicionários.\n",
    "\t\n",
    "A linguagem *Python* suporta um tipo primitivo chamado **set** que  implementa conjuntos, mais apropriado do que o uso de listas ou dicionários."
   ]
  },
  {
   "cell_type": "code",
   "execution_count": 2,
   "metadata": {},
   "outputs": [
    {
     "name": "stdout",
     "output_type": "stream",
     "text": [
      "A = {1, 2, 4, 5, 6, 7}\n",
      "B = {'e', 'J', 'g', 'o', 'r'}\n",
      "C = {'laranja', 'pera', 'abacaxi', 'Banana'}\n",
      "D = {'4', '1', '2', '3'}\n"
     ]
    }
   ],
   "source": [
    "# definicao de conjuntos\n",
    "A = {1, 2, 4, 5, 6, 7, 7}                     # lista de numeros\n",
    "B = 'Jorge'                                # string\n",
    "C = {'Banana','laranja','pera','abacaxi'}  # lista de strings\n",
    "conjuntoA = set(A)                         # def conjunto A\n",
    "conjuntoB = set(B)\n",
    "conjuntoC = set(C)\n",
    "conjuntoD = set('1234')\n",
    "print('A =',conjuntoA)\n",
    "print('B =',conjuntoB)\n",
    "print('C =',conjuntoC)\n",
    "print('D =',conjuntoD)"
   ]
  },
  {
   "cell_type": "code",
   "execution_count": 3,
   "metadata": {},
   "outputs": [
    {
     "name": "stdout",
     "output_type": "stream",
     "text": [
      "A = {1, 2, 3, 4, 5}\n"
     ]
    }
   ],
   "source": [
    "# definicao de conjunto\n",
    "A = {1, 2, 3, 4, 5}\n",
    "cA = set(A) # usando set do python\n",
    "print('A =',cA) # visualizando o conjunto"
   ]
  },
  {
   "cell_type": "markdown",
   "metadata": {},
   "source": [
    "## Conjuntos em Python"
   ]
  },
  {
   "cell_type": "markdown",
   "metadata": {},
   "source": [
    "Podemos ainda criar conjuntos a partir de uma lista ou tupla com **set()**, uma grande vantagem é por exemplo limpar os dados repetidos em uma lista:"
   ]
  },
  {
   "cell_type": "code",
   "execution_count": 4,
   "metadata": {},
   "outputs": [
    {
     "name": "stdout",
     "output_type": "stream",
     "text": [
      "C = {'Uva', 'Laranja', 'Maçã', 'Abacaxi', 'Abacate'}\n"
     ]
    }
   ],
   "source": [
    "# usando uma lista\n",
    "lista = ['Maçã', 'Laranja', 'Uva', 'Abacaxi', 'Maçã', 'Abacate', 'Laranja']\n",
    "# Definindo um conjunto usando set()\n",
    "C = set(lista)\n",
    "print('C =',C)"
   ]
  },
  {
   "cell_type": "code",
   "execution_count": 5,
   "metadata": {},
   "outputs": [
    {
     "name": "stdout",
     "output_type": "stream",
     "text": [
      "conjunto =  {'a', 'e', ' ', 'R', '-', 'J', 's', 'i', 'd', 'o', 'B', 'r', 'n', 'l'}\n"
     ]
    }
   ],
   "source": [
    "# conjunto\n",
    "conjunto = set('Rio de Janeiro - Brasil')\n",
    "print('conjunto = ',conjunto)"
   ]
  },
  {
   "cell_type": "markdown",
   "metadata": {},
   "source": [
    "No exemplo acima, o set não se importa com a ordem dos itens na lista, e só podem ter itens únicos eliminando os valores duplicados."
   ]
  },
  {
   "cell_type": "code",
   "execution_count": 6,
   "metadata": {},
   "outputs": [
    {
     "name": "stdout",
     "output_type": "stream",
     "text": [
      "numeros =  {'1', '3', '4', '6', '5', '2', '7'}\n"
     ]
    }
   ],
   "source": [
    "numeros = set('1234567')\n",
    "print('numeros = ',numeros)"
   ]
  },
  {
   "cell_type": "markdown",
   "metadata": {},
   "source": [
    "## Conjunto Vazio"
   ]
  },
  {
   "cell_type": "markdown",
   "metadata": {},
   "source": [
    "Um conjunto vazio pode ser criado através de **set()** sem argumentos:\n",
    "\n",
    "**A = set()**\n",
    "\n",
    "Usar as chaves vazias para criar um conjunto vazio não é uma forma valida para se criar um conjunto vazio pois o Python vai interpretar como um dicionário vazio:"
   ]
  },
  {
   "cell_type": "code",
   "execution_count": 7,
   "metadata": {},
   "outputs": [
    {
     "data": {
      "text/plain": [
       "set"
      ]
     },
     "execution_count": 7,
     "metadata": {},
     "output_type": "execute_result"
    }
   ],
   "source": [
    "# definir um conjunto\n",
    "c = set()\n",
    "type(c)"
   ]
  },
  {
   "cell_type": "code",
   "execution_count": 8,
   "metadata": {},
   "outputs": [
    {
     "data": {
      "text/plain": [
       "dict"
      ]
     },
     "execution_count": 8,
     "metadata": {},
     "output_type": "execute_result"
    }
   ],
   "source": [
    "# forma errada de definir um conjunto vazio\n",
    "s = {}\n",
    "type(s)"
   ]
  },
  {
   "cell_type": "markdown",
   "metadata": {},
   "source": [
    "## Número de elementos de um conjunto"
   ]
  },
  {
   "cell_type": "code",
   "execution_count": 9,
   "metadata": {},
   "outputs": [
    {
     "data": {
      "text/plain": [
       "5"
      ]
     },
     "execution_count": 9,
     "metadata": {},
     "output_type": "execute_result"
    }
   ],
   "source": [
    "Numero_de_elementos_do_conjunto = len(C)\n",
    "Numero_de_elementos_do_conjunto"
   ]
  },
  {
   "cell_type": "markdown",
   "metadata": {},
   "source": [
    "## Métodos para Conjuntos"
   ]
  },
  {
   "cell_type": "markdown",
   "metadata": {},
   "source": [
    "|   Sintaxe                      |    Descrição                                                |\n",
    " |:-------------------------------|:------------------------------------------------------------|\n",
    " | x in s                         |   *True* se o elemento x pertence a s                       |\n",
    " | s.add(x)                       |   Inclui o elemento x em S                                  |\n",
    " | s.copy()                        |   Retorna uma cópia de s\n",
    " | s.union(r)                      |   Retorna a união entre s e r\n",
    " | s.intersection(r)               |   Retorna a interseção entre s e r\n",
    " | s.difference(r)                 |   Retorna a diferença entre s e r\n",
    " | list(s)                         |   Retorna os elementos de s numa lista\n",
    " | tuple(s)                        |   Retorna os elementos de s numa tupla\n",
    " | s.difference_update(t)\t      |   Remove os itens que estão no conjunto t do conjunto s\n",
    " | s.intersection_update(t)\t      |   Faz com que o conjunto s contenha a interseção dele com t.\n",
    " | s.symetric_difference_update(t) |\tFaz com que o conjunto s contenha a diferença simétrica dele                                     |  com t.\n",
    " | s.isdisjoin(t)\t              |  Retorna True se s e t não tem nenhum item em comum.\n",
    " | s.issubset(t) (s <= t)\t      |  Retorna True se s é igual a ou um subconjunto de t.\n",
    " | s.issuperset(t) (s >= t)\t      |  Retorna True se s é igual a ou t é um subconjunto de s.\n",
    " | s.discard(x)\t                  |  Remove o item x do conjunto s.\n",
    " | s.remove(x)\t                  |  Remove o item x se ele estiver em s, se não retorna um                                         |  KeyError.\n",
    " | s.update(t)\t                  |  Adiciona cada item do conjunto s que não está no conjunto t                                     |  para o conjunto t."
   ]
  },
  {
   "cell_type": "markdown",
   "metadata": {},
   "source": [
    "### Observação\n",
    "O uso de letras maiúsculas ou minúsculas para denotar os conjuntos na linguagem **Python** é indistinto, no entanto deve-se ter usar com cautela. Para fins de uso neste material, todos os conjuntos serão denotados com letras maiúsculas para evitar possíveis erros de notação."
   ]
  },
  {
   "cell_type": "markdown",
   "metadata": {},
   "source": [
    "Sejam os conjuntos:"
   ]
  },
  {
   "cell_type": "code",
   "execution_count": 10,
   "metadata": {},
   "outputs": [
    {
     "name": "stdout",
     "output_type": "stream",
     "text": [
      "A =  {'a', 1, 2, 3, 4, 10, '0'}\n",
      "B =  {'a', 34, 2, 3, 4, '1', 'b', 21}\n",
      "C =  {'a', 1, 4, 6, 9, 'b', '2', 'c'}\n",
      "S =  {'Uva', 'Banana', 'Laranja', 'Abacaxi', 'Abacate'}\n"
     ]
    }
   ],
   "source": [
    "#Definição de conjuntos\n",
    "A = {1, 2, 3, 4, 10,'0', 'a'}\n",
    "B = {2, 3, 4, 21, 34, '1','a','b'}\n",
    "C = {1, 4, 6, 9,'2','a','b','c'}\n",
    "S = {'Banana', 'Uva', 'Abacate', 'Laranja', 'Abacaxi'}\n",
    "print('A = ',A)\n",
    "print('B = ',B)\n",
    "print('C = ',C)\n",
    "print('S = ',S)"
   ]
  },
  {
   "cell_type": "markdown",
   "metadata": {},
   "source": [
    "### Pertinência a um conjunto"
   ]
  },
  {
   "cell_type": "markdown",
   "metadata": {},
   "source": [
    "Para determinar a pertinência de um elemento a um conjunto se usa o método **in**. Quando o elemento pertence ao conjunto retorna **True** ou **False** caso contrário."
   ]
  },
  {
   "cell_type": "code",
   "execution_count": 11,
   "metadata": {},
   "outputs": [
    {
     "name": "stdout",
     "output_type": "stream",
     "text": [
      "True\n",
      "True\n",
      "True\n",
      "False\n",
      "True\n"
     ]
    }
   ],
   "source": [
    "# determinando pertinencias aos conjuntos definidos acima\n",
    "pA = 'a' in A            # pertinência em A\n",
    "pB = 3 in B              # pertinência em B\n",
    "pC = '2' in C            # pertinência em C\n",
    "pS = 'Maçã' in S         # pertinência em S\n",
    "npS = 'Lima' not in S    # não pertinência a S\n",
    "print(pA)\n",
    "print(pB)\n",
    "print(pC)\n",
    "print(pS)\n",
    "print(npS)"
   ]
  },
  {
   "cell_type": "markdown",
   "metadata": {},
   "source": [
    "## Adicionado um elemento a um conjunto"
   ]
  },
  {
   "cell_type": "markdown",
   "metadata": {},
   "source": [
    "O método **add()** adiciona um elemento ao conjunto, se o elemento ainda não existir no conjunto. De forma geral **S.add(x)**, o elemento **x** é adicionado ao conjunto **S**. "
   ]
  },
  {
   "cell_type": "code",
   "execution_count": 12,
   "metadata": {},
   "outputs": [
    {
     "name": "stdout",
     "output_type": "stream",
     "text": [
      "S =  {'Uva', 'Melancia', 'Banana', 'Laranja', 'Abacaxi', 'Abacate'}\n"
     ]
    }
   ],
   "source": [
    "# adicionando um elemento ao conjunto S\n",
    "S = {'Banana', 'Uva', 'Abacate', 'Laranja', 'Abacaxi'}\n",
    "S.add('Melancia') # adicionado um elemento ao conjunto S\n",
    "print('S = ',S)"
   ]
  },
  {
   "cell_type": "code",
   "execution_count": 13,
   "metadata": {},
   "outputs": [
    {
     "name": "stdout",
     "output_type": "stream",
     "text": [
      "S =  {'Uva', 'Melancia', 'Banana', 'Laranja', 'Abacaxi', 'Abacate'}\n"
     ]
    }
   ],
   "source": [
    "# adicionando elemento existente\n",
    "x = 'Uva'\n",
    "S.add(x)\n",
    "print('S = ',S)"
   ]
  },
  {
   "cell_type": "markdown",
   "metadata": {},
   "source": [
    "## União de Conjuntos"
   ]
  },
  {
   "cell_type": "markdown",
   "metadata": {},
   "source": [
    "A **união** de dois conjuntos é outro conjunto determinado pelo método **union** ou pelo operador **|**."
   ]
  },
  {
   "cell_type": "code",
   "execution_count": 14,
   "metadata": {},
   "outputs": [
    {
     "name": "stdout",
     "output_type": "stream",
     "text": [
      "R = {'a', 1, 2, 3, 4, 34, '1', 'b', 10, '0', 21}\n"
     ]
    }
   ],
   "source": [
    "# União de Conjuntos usando o método union. Seja R = A.union(B)\n",
    "R = A.union(B)\n",
    "print('R =',R)"
   ]
  },
  {
   "cell_type": "code",
   "execution_count": 21,
   "metadata": {},
   "outputs": [
    {
     "name": "stdout",
     "output_type": "stream",
     "text": [
      "O =  {'a', 1, 2, 3, 4, 34, '1', 'b', 10, '0', 21}\n"
     ]
    }
   ],
   "source": [
    "# União de conjuntos usando o operador |\n",
    "O = A | B\n",
    "print('O = ',O)"
   ]
  },
  {
   "cell_type": "markdown",
   "metadata": {},
   "source": [
    "## Interseção de Conjuntos"
   ]
  },
  {
   "cell_type": "markdown",
   "metadata": {},
   "source": [
    "A **interseção** de dois conjuntos é outro conjunto determinado pelo método **intersection** ou pelo oprerador **&**."
   ]
  },
  {
   "cell_type": "code",
   "execution_count": 15,
   "metadata": {},
   "outputs": [
    {
     "name": "stdout",
     "output_type": "stream",
     "text": [
      "I =  {'a', 2, 3, 4}\n"
     ]
    }
   ],
   "source": [
    "# Interseção de Conjuntos usando o método intersection. Seja I = A.intersection(B)\n",
    "I = A.intersection(B)\n",
    "print('I = ',I)"
   ]
  },
  {
   "cell_type": "code",
   "execution_count": 22,
   "metadata": {},
   "outputs": [
    {
     "name": "stdout",
     "output_type": "stream",
     "text": [
      "K =  {'a', 2, 3, 4}\n"
     ]
    }
   ],
   "source": [
    "# Interseção de Conjuntos usando o operador &\n",
    "K = A & B\n",
    "print('K = ',K)"
   ]
  },
  {
   "cell_type": "markdown",
   "metadata": {},
   "source": [
    "## Diferença de Conjuntos"
   ]
  },
  {
   "cell_type": "markdown",
   "metadata": {},
   "source": [
    "A **diferença** de dois conjuntos é outro conjunto determinado pelo método **difference** ou pelo operador **-**."
   ]
  },
  {
   "cell_type": "code",
   "execution_count": 16,
   "metadata": {},
   "outputs": [
    {
     "name": "stdout",
     "output_type": "stream",
     "text": [
      "A =  {'a', 1, 2, 3, 4, 10, '0'}\n",
      "B =  {'a', 34, 2, 3, 4, '1', 'b', 21}\n",
      "D = A - B =  {1, 10, '0'}\n"
     ]
    }
   ],
   "source": [
    "# Diferença de Conjuntos usando o método difference. Seja D = A.difference(B)\n",
    "print('A = ',A)\n",
    "print('B = ',B)\n",
    "D = A.difference(B)\n",
    "print('D = A - B = ',D)"
   ]
  },
  {
   "cell_type": "code",
   "execution_count": 23,
   "metadata": {},
   "outputs": [
    {
     "name": "stdout",
     "output_type": "stream",
     "text": [
      "A =  {'a', 1, 2, 3, 4, 10, '0'}\n",
      "B =  {'a', 34, 2, 3, 4, '1', 'b', 21}\n",
      "D = A - B =  {1, 10, '0'}\n"
     ]
    }
   ],
   "source": [
    "# Diferença de Conjuntos usando o operador -\n",
    "print('A = ',A)\n",
    "print('B = ',B)\n",
    "d = A - B\n",
    "print('D = A - B = ',d)"
   ]
  },
  {
   "cell_type": "markdown",
   "metadata": {},
   "source": [
    "## Igualdade de Conjuntos"
   ]
  },
  {
   "cell_type": "markdown",
   "metadata": {},
   "source": [
    "A **igualdade** de dois conjuntos A e B é determinado pelo método **A == B**. Se os conjuntos têm os mesmo elementos retornará **True**, senão **False**.\n"
   ]
  },
  {
   "cell_type": "code",
   "execution_count": 24,
   "metadata": {},
   "outputs": [
    {
     "name": "stdout",
     "output_type": "stream",
     "text": [
      "A =  {'a', 1, 2, 3, 4, 10, '0'}\n",
      "B =  {'a', 34, 2, 3, 4, '1', 'b', 21}\n",
      "I =  False\n"
     ]
    }
   ],
   "source": [
    "# Igualdade de Conjuntos usando ==. Seja i = A == B\n",
    "print('A = ',A)\n",
    "print('B = ',B)\n",
    "i = A == B\n",
    "print('I = ',i)"
   ]
  },
  {
   "cell_type": "markdown",
   "metadata": {},
   "source": [
    "## Diferença simétrica"
   ]
  },
  {
   "cell_type": "markdown",
   "metadata": {},
   "source": [
    "A **diferença simétrica** de dois conjuntos é outro conjunto determinado pelo método **symmetric\\_difference()** ou pelo operador **^**."
   ]
  },
  {
   "cell_type": "code",
   "execution_count": 27,
   "metadata": {},
   "outputs": [
    {
     "name": "stdout",
     "output_type": "stream",
     "text": [
      "A =  {'a', 1, 2, 3, 4, 10, '0'}\n",
      "B =  {'a', 34, 2, 3, 4, '1', 'b', 21}\n",
      "s =  {1, 34, '1', 'b', 10, '0', 21}\n"
     ]
    }
   ],
   "source": [
    "# Diferença simétrica de dois conjuntos usando o método symmetric_difference()\n",
    "print('A = ',A)\n",
    "print('B = ',B)\n",
    "s = A.symmetric_difference(B)\n",
    "print('s = ',s)"
   ]
  },
  {
   "cell_type": "code",
   "execution_count": 28,
   "metadata": {},
   "outputs": [
    {
     "name": "stdout",
     "output_type": "stream",
     "text": [
      "A =  {'a', 1, 2, 3, 4, 10, '0'}\n",
      "B =  {'a', 34, 2, 3, 4, '1', 'b', 21}\n",
      "T =  {1, 34, '1', 'b', 10, '0', 21}\n"
     ]
    }
   ],
   "source": [
    "# Diferença simétrica de dois conjuntos usando o operador ^\n",
    "print('A = ',A)\n",
    "print('B = ',B)\n",
    "T = A ^ B\n",
    "print('T = ',T)"
   ]
  },
  {
   "cell_type": "markdown",
   "metadata": {},
   "source": [
    "## Número de elementos de um conjunto"
   ]
  },
  {
   "cell_type": "markdown",
   "metadata": {},
   "source": [
    "Para determinar o número de elementos de um conjunto se deve usar o comando **len()**. Como mostrado no exemplo a seguir:"
   ]
  },
  {
   "cell_type": "code",
   "execution_count": 18,
   "metadata": {},
   "outputs": [
    {
     "name": "stdout",
     "output_type": "stream",
     "text": [
      "Número de elementos do conjunto S é  6\n"
     ]
    }
   ],
   "source": [
    "# determinando o número de elementos de um conjunto\n",
    "ne = len(S)\n",
    "print('Número de elementos do conjunto S é ',ne)"
   ]
  },
  {
   "cell_type": "markdown",
   "metadata": {},
   "source": [
    "## Iteração sobre Conjuntos"
   ]
  },
  {
   "cell_type": "markdown",
   "metadata": {},
   "source": [
    "Pode-se realizar iterações sobre os conjuntos, no entanto, a iteração não necessariamente visita os elementos na mesma ordem em que eles foram inseridos no conjunto inicialmente."
   ]
  },
  {
   "cell_type": "code",
   "execution_count": 19,
   "metadata": {},
   "outputs": [
    {
     "name": "stdout",
     "output_type": "stream",
     "text": [
      "a  1  2  0  4  jorge  z  "
     ]
    }
   ],
   "source": [
    "# criando o conjunto X\n",
    "X = set([1, 2, 'z','a','jorge',0, 4])\n",
    "#print('X = ',X)\n",
    "for elemento in X:\n",
    "    print(elemento,' ',end=\"\")"
   ]
  },
  {
   "cell_type": "markdown",
   "metadata": {},
   "source": [
    "---\n",
    "#### Copyright &copy; Jorge Zavaleta, 2023"
   ]
  }
 ],
 "metadata": {
  "kernelspec": {
   "display_name": "Python 3 (ipykernel)",
   "language": "python",
   "name": "python3"
  },
  "language_info": {
   "codemirror_mode": {
    "name": "ipython",
    "version": 3
   },
   "file_extension": ".py",
   "mimetype": "text/x-python",
   "name": "python",
   "nbconvert_exporter": "python",
   "pygments_lexer": "ipython3",
   "version": "3.9.15"
  },
  "widgets": {
   "application/vnd.jupyter.widget-state+json": {
    "state": {},
    "version_major": 2,
    "version_minor": 0
   }
  }
 },
 "nbformat": 4,
 "nbformat_minor": 2
}
