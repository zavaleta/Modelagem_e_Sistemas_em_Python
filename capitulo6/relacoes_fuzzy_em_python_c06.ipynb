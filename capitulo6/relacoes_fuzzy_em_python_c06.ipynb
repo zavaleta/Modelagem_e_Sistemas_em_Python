{
 "cells": [
  {
   "cell_type": "markdown",
   "metadata": {},
   "source": [
    "# Capítulo 6: Relações Fuzzy em Python"
   ]
  },
  {
   "cell_type": "markdown",
   "metadata": {},
   "source": [
    ">## Modelagem e Simulação de Sistemas Usando Lógica Fuzzy com Python: Teoria e Prática\n",
    ">### Aurtor: Jorge Zavaleta"
   ]
  },
  {
   "cell_type": "markdown",
   "metadata": {},
   "source": [
    "## Importando a bibliteca Numpy"
   ]
  },
  {
   "cell_type": "code",
   "execution_count": 1,
   "metadata": {},
   "outputs": [],
   "source": [
    "# importando as biblitecas necessarias\n",
    "import numpy as np"
   ]
  },
  {
   "cell_type": "markdown",
   "metadata": {},
   "source": [
    "## Relações Fuzzy"
   ]
  },
  {
   "cell_type": "markdown",
   "metadata": {},
   "source": [
    "### Relação Binária Fuzzy"
   ]
  },
  {
   "cell_type": "markdown",
   "metadata": {},
   "source": [
    "Produto Cartesiano é definido como:\n",
    "$R = \\{((x,y),\\mu_{R}(x,y))|(x,y) \\in X \\times Y \\}$"
   ]
  },
  {
   "cell_type": "markdown",
   "metadata": {},
   "source": [
    "### Matriz de Pertinância"
   ]
  },
  {
   "cell_type": "markdown",
   "metadata": {},
   "source": [
    "$\\begin{equation}\n",
    "\t\\label{eq:mpertinencia}\n",
    "\tR = \\left[\n",
    "\t\\begin{array}{cccc}\n",
    "\t\\mu_{R}(x_{1},y_{1}) & \\mu_{R}(x_{1},y_{2}) & \\cdots & \\mu_{R}(x_{1},y_{n}) \\\\\n",
    "\t\\mu_{R}(x_{2},y_{1}) & \\mu_{R}(x_{2},y_{2}) & \\cdots & \\mu_{R}(x_{2},y_{n}) \\\\\n",
    "\t\\vdots & \\vdots & \\vdots & \\vdots \\\\\n",
    "\t\\mu_{R}(x_{m},y_{1}) & \\mu_{R}(x_{m},y_{2}) & \\cdots & \\mu_{R}(x_{m},y_{n})\n",
    "\t\\end{array}\n",
    "\t\\right]\n",
    "\t\\end{equation}$"
   ]
  },
  {
   "cell_type": "markdown",
   "metadata": {},
   "source": [
    "Observa-se que a partir da matriz de pertinência geral podem ser induzidas algumas relações especiais e suas matrizes de pertinência."
   ]
  },
  {
   "cell_type": "markdown",
   "metadata": {},
   "source": [
    "### Relação Identidade"
   ]
  },
  {
   "cell_type": "markdown",
   "metadata": {},
   "source": [
    "$\\begin{equation}\n",
    "\t\\label{eq:ridentidade}\n",
    "\tR_{I} = \\left[\n",
    "\t\\begin{array}{cccc}\n",
    "\t1 & 0 & \\cdots & 0 \\\\\n",
    "\t0 & 1 & \\cdots & 0 \\\\\n",
    "\t\\vdots & \\vdots & \\vdots & \\vdots \\\\\n",
    "\t0 & 0 & \\cdots & 1\n",
    "\t\\end{array}\n",
    "\t\\right]\n",
    "\t\\end{equation}$"
   ]
  },
  {
   "cell_type": "code",
   "execution_count": 2,
   "metadata": {},
   "outputs": [
    {
     "name": "stdout",
     "output_type": "stream",
     "text": [
      "Relação Identidade RI:\n",
      "[[1. 0. 0. 0. 0.]\n",
      " [0. 1. 0. 0. 0.]\n",
      " [0. 0. 1. 0. 0.]\n",
      " [0. 0. 0. 1. 0.]\n",
      " [0. 0. 0. 0. 1.]]\n"
     ]
    }
   ],
   "source": [
    "# matriz para uma Relação Fuzzy Identidade\n",
    "RI = np.identity(5, dtype=float)\n",
    "print('Relação Identidade RI:')\n",
    "print(RI)"
   ]
  },
  {
   "cell_type": "markdown",
   "metadata": {},
   "source": [
    "### Relação Universo"
   ]
  },
  {
   "cell_type": "markdown",
   "metadata": {},
   "source": [
    "$\\begin{equation}\n",
    "\t\\label{eq:runiverso}\n",
    "\tR_{E} = \\left[\n",
    "\t\\begin{array}{cccc}\n",
    "\t1 & 1 & \\cdots & 1 \\\\\n",
    "\t1 & 1 & \\cdots & 1 \\\\\n",
    "\t\\vdots & \\vdots & \\vdots & \\vdots \\\\\n",
    "\t1 & 1 & \\cdots & 1\n",
    "\t\\end{array}\n",
    "\t\\right]\n",
    "\t\\end{equation}$"
   ]
  },
  {
   "cell_type": "code",
   "execution_count": 3,
   "metadata": {},
   "outputs": [
    {
     "name": "stdout",
     "output_type": "stream",
     "text": [
      "Relação Universo RU:\n",
      "[[1. 1. 1. 1. 1.]\n",
      " [1. 1. 1. 1. 1.]\n",
      " [1. 1. 1. 1. 1.]\n",
      " [1. 1. 1. 1. 1.]\n",
      " [1. 1. 1. 1. 1.]]\n"
     ]
    }
   ],
   "source": [
    "# Matriz universo NxN (5x5)\n",
    "RU = np.ones((5,5), dtype=float)\n",
    "print('Relação Universo RU:')\n",
    "print(RU)"
   ]
  },
  {
   "cell_type": "markdown",
   "metadata": {},
   "source": [
    "### Relação Nula"
   ]
  },
  {
   "cell_type": "markdown",
   "metadata": {},
   "source": [
    "$\\begin{equation}\n",
    "\t\\label{eq:rnula}\n",
    "\tR_{0} = \\left[\n",
    "\t\\begin{array}{cccc}\n",
    "\t0 & 0 & \\cdots & 0 \\\\\n",
    "\t0 & 0 & \\cdots & 0 \\\\\n",
    "\t\\vdots & \\vdots & \\vdots & \\vdots \\\\\n",
    "\t0 & 0 & \\cdots & 0\n",
    "\t\\end{array}\n",
    "\t\\right]\n",
    "\t\\end{equation}$"
   ]
  },
  {
   "cell_type": "code",
   "execution_count": 4,
   "metadata": {},
   "outputs": [
    {
     "name": "stdout",
     "output_type": "stream",
     "text": [
      "Relação Nula RN:\n",
      "[[0. 0. 0. 0. 0.]\n",
      " [0. 0. 0. 0. 0.]\n",
      " [0. 0. 0. 0. 0.]\n",
      " [0. 0. 0. 0. 0.]\n",
      " [0. 0. 0. 0. 0.]]\n"
     ]
    }
   ],
   "source": [
    "# Matriz universo NxN (5x5)\n",
    "RN = np.zeros((5,5),dtype=float)\n",
    "print('Relação Nula RN:')\n",
    "print(RN)"
   ]
  },
  {
   "cell_type": "markdown",
   "metadata": {},
   "source": [
    "### Transposta de uma Relação Fuzzy"
   ]
  },
  {
   "cell_type": "code",
   "execution_count": 5,
   "metadata": {},
   "outputs": [
    {
     "name": "stdout",
     "output_type": "stream",
     "text": [
      "Relação R:\n",
      "[[1.  0.9 0.3 0.3]\n",
      " [0.8 0.1 0.6 0. ]\n",
      " [0.  0.1 1.  0.3]\n",
      " [0.6 0.  0.6 0.5]]\n"
     ]
    }
   ],
   "source": [
    "# definindo a matriz da relacao fuzzy\n",
    "F = np.random.random((4,4))\n",
    "R = F.round(decimals=1)\n",
    "print('Relação R:')\n",
    "print(R)"
   ]
  },
  {
   "cell_type": "code",
   "execution_count": 6,
   "metadata": {},
   "outputs": [
    {
     "name": "stdout",
     "output_type": "stream",
     "text": [
      "Transposta da Relação  de R:\n",
      "[[1.  0.8 0.  0.6]\n",
      " [0.9 0.1 0.1 0. ]\n",
      " [0.3 0.6 1.  0.6]\n",
      " [0.3 0.  0.3 0.5]]\n"
     ]
    }
   ],
   "source": [
    "# matriz transposta\n",
    "t = R.T\n",
    "print('Transposta da Relação  de R:')\n",
    "print(t)"
   ]
  },
  {
   "cell_type": "markdown",
   "metadata": {},
   "source": [
    "### Relação Inversa"
   ]
  },
  {
   "cell_type": "markdown",
   "metadata": {},
   "source": [
    "$\\begin{equation}\n",
    "\t\\label{eq:rinversa}\n",
    "\tR^{-1} = \\left[\n",
    "\t\\begin{array}{cccc}\n",
    "\t\\mu_{R}(x_{1},y_{1}) & \\mu_{R}(x_{2},y_{1}) & \\cdots & \\mu_{R}(x_{m},y_{1}) \\\\\n",
    "\t\\mu_{R}(x_{1},y_{1}) & \\mu_{R}(x_{2},y_{2}) & \\cdots & \\mu_{R}(x_{m},y_{2}) \\\\\n",
    "\t\\vdots & \\vdots & \\vdots & \\vdots \\\\\n",
    "\t\\mu_{R}(x_{1},y_{n}) & \\mu_{R}(x_{2},y_{n}) & \\cdots & \\mu_{R}(x_{m},y_{n})\n",
    "\t\\end{array}\n",
    "\t\\right]\n",
    "\t\\end{equation}$"
   ]
  },
  {
   "cell_type": "code",
   "execution_count": 7,
   "metadata": {},
   "outputs": [
    {
     "name": "stdout",
     "output_type": "stream",
     "text": [
      "Relação inversa MI:\n",
      "[[1.  0.8 0.  0.6]\n",
      " [0.9 0.1 0.1 0. ]\n",
      " [0.3 0.6 1.  0.6]\n",
      " [0.3 0.  0.3 0.5]]\n"
     ]
    }
   ],
   "source": [
    "# matriz da relação inversa R-1= R.T\n",
    "MI = t\n",
    "print('Relação inversa MI:')\n",
    "print(t)"
   ]
  },
  {
   "cell_type": "code",
   "execution_count": 8,
   "metadata": {},
   "outputs": [
    {
     "name": "stdout",
     "output_type": "stream",
     "text": [
      "Inversa da Relação Inversa r:\n",
      "[[1.  0.9 0.3 0.3]\n",
      " [0.8 0.1 0.6 0. ]\n",
      " [0.  0.1 1.  0.3]\n",
      " [0.6 0.  0.6 0.5]]\n"
     ]
    }
   ],
   "source": [
    "# matriz inversa: (R-1)-1 = R\n",
    "r = t.T\n",
    "print('Inversa da Relação Inversa r:')\n",
    "print(r)"
   ]
  },
  {
   "cell_type": "markdown",
   "metadata": {},
   "source": [
    "Observar que: $(R^{-1})^{-1}(y,x)=R(x,y)$. Logo a matriz $r = R$."
   ]
  },
  {
   "cell_type": "markdown",
   "metadata": {},
   "source": [
    "## Operações Básicas com Relações Fuzzy"
   ]
  },
  {
   "cell_type": "markdown",
   "metadata": {},
   "source": [
    "### União de Relações Fuzzy"
   ]
  },
  {
   "cell_type": "markdown",
   "metadata": {},
   "source": [
    "Definição de união de relações fuzzy:\n",
    "$\\begin{equation}\n",
    "\\mu_{R_{1} \\cup R_{2}}(x,y) = R_{1}(x,y) \\vee R_{2}(x,y)\n",
    "\\end{equation}$"
   ]
  },
  {
   "cell_type": "code",
   "execution_count": 9,
   "metadata": {},
   "outputs": [],
   "source": [
    "# funcao que calcula a união de relações fuzzy\n",
    "def union_rf(A,B):\n",
    "    (lA,cA) = A.shape\n",
    "    (lB,cB) = B.shape\n",
    "    if (lA == lB) and (cA == cB):\n",
    "        out = np.zeros((lA,cA)) # cria uma matriz de zeros\n",
    "        for i in range(lA):\n",
    "            for j in range(cB):\n",
    "                out[i,j] = np.maximum(A[i,j],B[i,j]) # maximo\n",
    "    else:\n",
    "        out = []\n",
    "        print(' ops!. Matrizes de dimensões diferentes!!!')\n",
    "    return out"
   ]
  },
  {
   "cell_type": "markdown",
   "metadata": {},
   "source": [
    "$R_{1}=$ ''x é maior que y'' e sua matriz de pertinências \n",
    "$\\begin{equation}\n",
    "    R_{1}= \\left[\n",
    "    \\begin{array}{cccc}\n",
    "              0.0  &  0.0  &  0.1 \t& 0.8 \\\\\n",
    "\t\t\t  0.0  &  0.8  &  0.0 \t& 0.0 \\\\\n",
    "\t\t\t  0.1  &  0.8  &  1.0 \t& 0.8 \n",
    "\t\t\\end{array} \n",
    "        \\right]\n",
    " \\end{equation}$"
   ]
  },
  {
   "cell_type": "code",
   "execution_count": 10,
   "metadata": {},
   "outputs": [
    {
     "name": "stdout",
     "output_type": "stream",
     "text": [
      "Relação R1:\n",
      "[[0.  0.  0.1 0.8]\n",
      " [0.  0.8 0.  0. ]\n",
      " [0.1 0.8 1.  0.8]]\n"
     ]
    }
   ],
   "source": [
    "# gerando a matriz da relação R1:\n",
    "R1 = np.array([[0.0, 0.0,0.1,0.8],[0.0, 0.8,0.0,0.0],[0.1,0.8,1.0,0.8]])\n",
    "print('Relação R1:')\n",
    "print(R1)"
   ]
  },
  {
   "cell_type": "markdown",
   "metadata": {},
   "source": [
    "$R_{2}=$ ''x é muito maior que y'' e sua matriz de pertinências \n",
    "$\\begin{equation}\n",
    "    R_{2} = \\left[\n",
    "    \\begin{array}{cccc}\n",
    "        0.4\t  & 0.4  & 0.2 \t& 0.1 \\\\\n",
    "\t\t0.5   & 0.0  & 1.0 \t& 1.0 \\\\\n",
    "\t    0.5\t  & 0.1\t & 0.2 \t& 0.6 \n",
    "\t\t\\end{array} \n",
    "        \\right]\n",
    " \\end{equation}$"
   ]
  },
  {
   "cell_type": "code",
   "execution_count": 11,
   "metadata": {},
   "outputs": [
    {
     "name": "stdout",
     "output_type": "stream",
     "text": [
      "Relação R2:\n",
      "[[0.4 0.4 0.2 0.1]\n",
      " [0.5 0.  1.  1. ]\n",
      " [0.5 0.1 0.2 0.6]]\n"
     ]
    }
   ],
   "source": [
    "# gerando a matriz da relação R2:\n",
    "R2 = np.array([[0.4, 0.4,0.2,0.1],[0.5, 0.0,1.0,1.0],[0.5,0.1,0.2,0.6]])\n",
    "print('Relação R2:')\n",
    "print(R2)"
   ]
  },
  {
   "cell_type": "code",
   "execution_count": 12,
   "metadata": {},
   "outputs": [
    {
     "name": "stdout",
     "output_type": "stream",
     "text": [
      "União da Relação R1 e R2:\n",
      "[[0.4 0.4 0.2 0.8]\n",
      " [0.5 0.8 1.  1. ]\n",
      " [0.5 0.8 1.  0.8]]\n"
     ]
    }
   ],
   "source": [
    "uR1R2 = union_rf(R1,R2)\n",
    "print('União da Relação R1 e R2:')\n",
    "print(uR1R2)"
   ]
  },
  {
   "cell_type": "markdown",
   "metadata": {},
   "source": [
    "### Interseção de Relações Fuzzy"
   ]
  },
  {
   "cell_type": "markdown",
   "metadata": {},
   "source": [
    "Definição de interseção de relações fuzzy:\n",
    "$\\begin{equation}\n",
    "\\mu_{R_{1} \\cap R_{2}}(x,y) = R_{1}(x,y) \\wedge R_{2}(x,y)\n",
    "\\end{equation}$"
   ]
  },
  {
   "cell_type": "code",
   "execution_count": 13,
   "metadata": {},
   "outputs": [],
   "source": [
    "# funcao que calcula a interseção de relações fuzzy\n",
    "def intersec_rf(A,B):\n",
    "    (lA,cA) = A.shape\n",
    "    (lB,cB) = B.shape\n",
    "    if (lA == lB) and (cA == cB):\n",
    "        out = np.zeros((lA,cA)) # cria uma matriz de zeros\n",
    "        for i in range(lA):\n",
    "            for j in range(cB):\n",
    "                out[i,j] = np.minimum(A[i,j],B[i,j]) # minimo\n",
    "    else:\n",
    "        out = []\n",
    "        print(' ops!. Matrizes de dimensões diferentes!!!')\n",
    "    return out"
   ]
  },
  {
   "cell_type": "code",
   "execution_count": 14,
   "metadata": {},
   "outputs": [
    {
     "name": "stdout",
     "output_type": "stream",
     "text": [
      "Interseção da Relação R1 e R2:\n",
      "[[0.  0.  0.1 0.1]\n",
      " [0.  0.  0.  0. ]\n",
      " [0.1 0.1 0.2 0.6]]\n"
     ]
    }
   ],
   "source": [
    "i_R1_R2 = intersec_rf(R1,R2)\n",
    "print('Interseção da Relação R1 e R2:')\n",
    "print(i_R1_R2)"
   ]
  },
  {
   "cell_type": "markdown",
   "metadata": {},
   "source": [
    "## Composição de Relações Fuzzy"
   ]
  },
  {
   "cell_type": "markdown",
   "metadata": {},
   "source": [
    "Seja as relações fuzzy $R_{1}$ = \"x é relevante para y\" e $R_{2}$ = \"y é relevante para z\" definidas sobre $X \\times Y$ e $Y \\times Z$ respectivamente, onde $X = \\{1,2,3\\}$, $Y=\\{\\alpha, \\beta, \\gamma,\\delta\\}$ e $Z=\\{a, b\\}$. Exemplo tomado do livro de Jang \\cite{Jang1997}. Assumir que $R_{1}$  e $R_{2}$ podem ser representadas como as seguintes relações matriciais:"
   ]
  },
  {
   "cell_type": "markdown",
   "metadata": {},
   "source": [
    "$ R_{1} $ = $\\left[\n",
    "\\begin{array}{cccc}\n",
    "0.1 & 0.3 & 0.5 & 0.7 \\\\\n",
    "0.4 & 0.2 & 0.8 & 0.9 \\\\\n",
    "0.6 & 0.8 & 0.3 & 0.2\n",
    "\\end{array}\n",
    "\\right]_{3x4}$"
   ]
  },
  {
   "cell_type": "code",
   "execution_count": 15,
   "metadata": {},
   "outputs": [
    {
     "name": "stdout",
     "output_type": "stream",
     "text": [
      "Matriz de pertinências M1:\n",
      "[[0.1 0.3 0.5 0.7]\n",
      " [0.4 0.2 0.8 0.9]\n",
      " [0.6 0.8 0.3 0.2]]\n"
     ]
    }
   ],
   "source": [
    "# gerando a matriz de pertinencias da relacao R1:\n",
    "M1 = np.array([[0.1, 0.3,0.5,0.7],[0.4, 0.2, 0.8, 0.9],[0.6, 0.8, 0.3, 0.2]])\n",
    "print('Matriz de pertinências M1:')\n",
    "print(M1)"
   ]
  },
  {
   "cell_type": "markdown",
   "metadata": {},
   "source": [
    "$ R_{2} $ = $\\left[\n",
    "\\begin{array}{cccc}\n",
    "0.9 & 0.1  \\\\\n",
    "0.2 & 0.3 \\\\\n",
    "0.5 & 0.6 \\\\\n",
    "0.7 & 0.2 \n",
    "\\end{array}\n",
    "\\right]_{4x2}$"
   ]
  },
  {
   "cell_type": "code",
   "execution_count": 16,
   "metadata": {},
   "outputs": [
    {
     "name": "stdout",
     "output_type": "stream",
     "text": [
      "Matriz de pertinências M2:\n",
      "[[0.9 0.1]\n",
      " [0.2 0.3]\n",
      " [0.5 0.6]\n",
      " [0.7 0.2]]\n"
     ]
    }
   ],
   "source": [
    "# gerando a matriz de pertinencias da relacao R2:\n",
    "M2 = np.array([[0.9, 0.1],[0.2, 0.3],[0.5, 0.6],[0.7, 0.2]])\n",
    "print('Matriz de pertinências M2:')\n",
    "print(M2)"
   ]
  },
  {
   "cell_type": "markdown",
   "metadata": {},
   "source": [
    "### Composição Max-Min"
   ]
  },
  {
   "cell_type": "code",
   "execution_count": 17,
   "metadata": {},
   "outputs": [],
   "source": [
    "# implementacao do metodo max-min\n",
    "def max_min(r,s):\n",
    "    (rl,rc) = r.shape\n",
    "    (sl,sc) = s.shape\n",
    "    if rc == sl:\n",
    "        out = np.zeros((rl,sc))\n",
    "        for i in range(rl):\n",
    "            for j in range(sc):\n",
    "                minimos = []\n",
    "                for k in range(sl):\n",
    "                    a = r[i,k]\n",
    "                    b = s[k,j]\n",
    "                    minimo = np.minimum(a,b)\n",
    "                    minimos.append(minimo)\n",
    "                maximo = np.amax(minimos)\n",
    "                out[i,j] = maximo\n",
    "    else:\n",
    "        out = []\n",
    "        print(' ops!. verificar as dimensões das matrizes!!!')\n",
    "    return out"
   ]
  },
  {
   "cell_type": "code",
   "execution_count": 18,
   "metadata": {},
   "outputs": [
    {
     "name": "stdout",
     "output_type": "stream",
     "text": [
      "Composição Max-Min:\n",
      "[[0.7 0.5]\n",
      " [0.7 0.6]\n",
      " [0.6 0.3]]\n"
     ]
    }
   ],
   "source": [
    "mami = max_min(M1,M2)\n",
    "print('Composição Max-Min:')\n",
    "print(mami)"
   ]
  },
  {
   "cell_type": "markdown",
   "metadata": {},
   "source": [
    "### Composião Max-Produto"
   ]
  },
  {
   "cell_type": "code",
   "execution_count": 19,
   "metadata": {},
   "outputs": [],
   "source": [
    "# implementacao do metodo max-produto\n",
    "def max_produto(r,s):\n",
    "    (rl,rc) = r.shape\n",
    "    (sl,sc) = s.shape\n",
    "    if rc == sl:\n",
    "        out = np.zeros((rl,sc))\n",
    "        for i in range(rl):\n",
    "            for j in range(sc):\n",
    "                produtos = []\n",
    "                for k in range(sl):\n",
    "                    a = r[i,k]\n",
    "                    b = s[k,j]\n",
    "                    produto = a*b\n",
    "                    produtos.append(produto)\n",
    "                maximo = np.amax(produtos)\n",
    "                out[i,j] = maximo\n",
    "    else:\n",
    "        out=[]\n",
    "        print('ops!. verificar as dimensões das matrizes!!!')\n",
    "    return out"
   ]
  },
  {
   "cell_type": "code",
   "execution_count": 20,
   "metadata": {},
   "outputs": [
    {
     "name": "stdout",
     "output_type": "stream",
     "text": [
      "Composição max-produto:\n",
      "[[0.49 0.3 ]\n",
      " [0.63 0.48]\n",
      " [0.54 0.24]]\n"
     ]
    }
   ],
   "source": [
    "# Usando o metodo max-produto\n",
    "MP = max_produto(M1,M2)\n",
    "print('Composição max-produto:')\n",
    "print(MP)"
   ]
  },
  {
   "cell_type": "markdown",
   "metadata": {},
   "source": [
    "### Composição Max-Média"
   ]
  },
  {
   "cell_type": "code",
   "execution_count": 25,
   "metadata": {},
   "outputs": [],
   "source": [
    "# implementacao do metodo max-media\n",
    "def max_media(r,s):\n",
    "    (rl,rc) = r.shape\n",
    "    (sl,sc) = s.shape\n",
    "    if rc == sl:\n",
    "        out = np.zeros((rl,sc))\n",
    "        for i in range(rl):\n",
    "            for j in range(sc):\n",
    "                medias = []\n",
    "                for k in range(sl):\n",
    "                    a = r[i,k]\n",
    "                    b = s[k,j]\n",
    "                    media = (a+b)/2\n",
    "                    medias.append(media)\n",
    "                maximo = np.amax(medias)\n",
    "                out[i,j] = maximo\n",
    "    else:\n",
    "        out = []\n",
    "        print('ops!. verificar as dimensões das matrizes!!!')\n",
    "    return out"
   ]
  },
  {
   "cell_type": "code",
   "execution_count": 26,
   "metadata": {},
   "outputs": [
    {
     "name": "stdout",
     "output_type": "stream",
     "text": [
      "Composição max-média:\n",
      "[[0.7  0.55]\n",
      " [0.8  0.7 ]\n",
      " [0.75 0.55]]\n"
     ]
    }
   ],
   "source": [
    "# usando o metodo max-media\n",
    "MED = max_media(M1,M2)\n",
    "print('Composição max-média:')\n",
    "print(MED)"
   ]
  },
  {
   "cell_type": "markdown",
   "metadata": {},
   "source": [
    "---\n",
    "#### Copyright © Jorge Zavaleta, 2023"
   ]
  }
 ],
 "metadata": {
  "kernelspec": {
   "display_name": "Python 3 (ipykernel)",
   "language": "python",
   "name": "python3"
  },
  "language_info": {
   "codemirror_mode": {
    "name": "ipython",
    "version": 3
   },
   "file_extension": ".py",
   "mimetype": "text/x-python",
   "name": "python",
   "nbconvert_exporter": "python",
   "pygments_lexer": "ipython3",
   "version": "3.9.15"
  }
 },
 "nbformat": 4,
 "nbformat_minor": 4
}
